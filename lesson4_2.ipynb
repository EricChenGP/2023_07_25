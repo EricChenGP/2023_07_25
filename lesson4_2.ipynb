{
 "cells": [
  {
   "cell_type": "code",
   "execution_count": 6,
   "metadata": {},
   "outputs": [
    {
     "name": "stdout",
     "output_type": "stream",
     "text": [
      "格式錯誤\n"
     ]
    }
   ],
   "source": [
    "score = int(input(\"請輸入分數:\"))\n",
    "if(90 <= score <= 100):\n",
    "    print(f\"{score},優\")\n",
    "elif(80 <= score < 90):\n",
    "    print(f\"{score},甲\")\n",
    "elif(70 <= score < 80):\n",
    "    print(f\"{score},乙\")\n",
    "elif(60 <= score < 70):\n",
    "    print(f\"{score},丙\")\n",
    "elif(0 <= score < 60):\n",
    "    print(f\"{score},丁\")\n",
    "else:\n",
    "    print(\"格式錯誤\")"
   ]
  },
  {
   "cell_type": "code",
   "execution_count": 8,
   "metadata": {},
   "outputs": [
    {
     "name": "stdout",
     "output_type": "stream",
     "text": [
      "購買金額是50000,付款金額是42500\n"
     ]
    }
   ],
   "source": [
    "money = int(input(\"請輸入購買金額:\"))\n",
    "payMoney = 0\n",
    "if(money < 10000):\n",
    "    payMoney = money \n",
    "elif(money < 30000):\n",
    "    payMoney = money * 0.95\n",
    "elif(money < 50000):\n",
    "    payMoney = money * 0.9\n",
    "elif(money < 100000):\n",
    "    payMoney = money * 0.85\n",
    "else:\n",
    "    payMoney = money * 0.8\n",
    "print(f\"購買金額是{money},付款金額是{int(payMoney)}\")"
   ]
  },
  {
   "cell_type": "code",
   "execution_count": 11,
   "metadata": {},
   "outputs": [
    {
     "name": "stdout",
     "output_type": "stream",
     "text": [
      "普遍級\n"
     ]
    }
   ],
   "source": [
    "age = input(\"請輸入年齡:\")\n",
    "rating = \"\"\n",
    "if age == '':\n",
    "    rating = '普遍級'\n",
    "elif int(age) >= 18:\n",
    "    rating = '限制級'\n",
    "elif int(age) >= 13:\n",
    "    rating = '輔導級'\n",
    "else:\n",
    "    rating = '普遍級'\n",
    "print(rating)"
   ]
  },
  {
   "cell_type": "code",
   "execution_count": 13,
   "metadata": {},
   "outputs": [
    {
     "name": "stdout",
     "output_type": "stream",
     "text": [
      "加分\n"
     ]
    }
   ],
   "source": [
    "add = input(\"請問是否加分:(y,n)\")\n",
    "if not (add == 'n'):\n",
    "    print(\"加分\")\n",
    "else:\n",
    "    print(\"不加分\")"
   ]
  }
 ],
 "metadata": {
  "kernelspec": {
   "display_name": "Python 3",
   "language": "python",
   "name": "python3"
  },
  "language_info": {
   "codemirror_mode": {
    "name": "ipython",
    "version": 3
   },
   "file_extension": ".py",
   "mimetype": "text/x-python",
   "name": "python",
   "nbconvert_exporter": "python",
   "pygments_lexer": "ipython3",
   "version": "3.10.12"
  },
  "orig_nbformat": 4
 },
 "nbformat": 4,
 "nbformat_minor": 2
}
