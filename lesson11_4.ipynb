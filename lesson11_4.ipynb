{
 "cells": [
  {
   "cell_type": "code",
   "execution_count": null,
   "metadata": {},
   "outputs": [],
   "source": [
    "import csv\n",
    "#將2維list儲存為csv檔\n",
    "fileName = input(\"請輸入檔案名:(csv)\")\n",
    "with open(f'{fileName}.csv',mode='w',encoding='utf-8', newline='') as file:\n",
    "    csv_writer = csv.writer(file)\n",
    "    csv_writer.writerow(['姓名', '國文', '英文', '數學', '地理', '歷史'])\n",
    "    csv_writer.writerows(students)\n",
    "\n",
    "print(\"存檔成功\")"
   ]
  },
  {
   "cell_type": "code",
   "execution_count": null,
   "metadata": {},
   "outputs": [],
   "source": [
    "\n",
    "for student in csv_list:\n",
    "    if student[0] == '周家銘':\n",
    "        print(student)\n",
    "        break"
   ]
  }
 ],
 "metadata": {
  "language_info": {
   "name": "python"
  },
  "orig_nbformat": 4
 },
 "nbformat": 4,
 "nbformat_minor": 2
}
