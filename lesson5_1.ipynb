{
 "cells": [
  {
   "cell_type": "code",
   "execution_count": 4,
   "metadata": {},
   "outputs": [
    {
     "name": "stdout",
     "output_type": "stream",
     "text": [
      "獎金:0\n"
     ]
    }
   ],
   "source": [
    "chinese = int(input(\"請輸入國文分數\"))\n",
    "math = int(input(\"請輸入數學分數\"))\n",
    "bonus = 0\n",
    "if chinese == 100:\n",
    "    if math == 100:\n",
    "        bonus = 1000\n",
    "    else:\n",
    "        bonus = 500\n",
    "elif math == 100:\n",
    "    bonus = 500\n",
    "print(f\"獎金:{bonus}\")"
   ]
  },
  {
   "cell_type": "code",
   "execution_count": 17,
   "metadata": {},
   "outputs": [
    {
     "name": "stdout",
     "output_type": "stream",
     "text": [
      "獎金:0\n"
     ]
    }
   ],
   "source": [
    "chinese = int(input(\"請輸入國文分數\"))\n",
    "math = int(input(\"請輸入數學分數\"))\n",
    "bonus = 0\n",
    "if chinese == 100 and math == 100:\n",
    "    bonus = 1000\n",
    "elif chinese == 100 or math == 100:\n",
    "    bonus = 500\n",
    "print(f\"獎金:{bonus}\")"
   ]
  },
  {
   "cell_type": "code",
   "execution_count": 19,
   "metadata": {},
   "outputs": [
    {
     "name": "stdout",
     "output_type": "stream",
     "text": [
      "血壓不正常\n"
     ]
    }
   ],
   "source": [
    "pressure = int(input(\"請輸入血壓\"))\n",
    "if pressure >= 80 and pressure <= 120:\n",
    "    print(\"血壓正常\")\n",
    "else:\n",
    "    print(\"血壓不正常\")"
   ]
  },
  {
   "cell_type": "code",
   "execution_count": 21,
   "metadata": {},
   "outputs": [
    {
     "name": "stdout",
     "output_type": "stream",
     "text": [
      "血壓不正常\n"
     ]
    }
   ],
   "source": [
    "pressure = int(input(\"請輸入血壓\"))\n",
    "if pressure < 80 or pressure > 120:\n",
    "    print(\"血壓不正常\")\n",
    "else:\n",
    "    print(\"血壓正常\")"
   ]
  },
  {
   "cell_type": "code",
   "execution_count": 25,
   "metadata": {},
   "outputs": [
    {
     "name": "stdout",
     "output_type": "stream",
     "text": [
      "您的身高:170\n",
      "您的體重:67\n",
      "BMI值23.18\n",
      "提示:正常範圍\n"
     ]
    }
   ],
   "source": [
    "height = int(input(\"請輸入身高,單位為(公分)\"))\n",
    "weight = int(input(\"請輸入體重,單位為(公斤)\"))\n",
    "BMI = weight / (height / 100) ** 2 \n",
    "suggest = \"\"\n",
    "if BMI < 18.5:\n",
    "    suggest = \"體重過輕\"\n",
    "elif BMI < 24:\n",
    "    suggest = \"正常範圍\"\n",
    "elif BMI < 27:\n",
    "    suggest = \"過重\"\n",
    "elif BMI < 30:\n",
    "    suggest = \"輕度肥胖\"\n",
    "elif BMI < 35:\n",
    "    suggest = \"中度肥胖\"\n",
    "else:\n",
    "    suggest = \"重度肥胖\"\n",
    "print(f\"您的身高:{height}\")\n",
    "print(f\"您的體重:{weight}\")\n",
    "#print(f\"BMI值{BMI:.2f}\")\n",
    "print(f\"BMI值{round(BMI,ndigits = 2)}\")\n",
    "print(f\"提示:{suggest}\")"
   ]
  },
  {
   "cell_type": "code",
   "execution_count": null,
   "metadata": {},
   "outputs": [],
   "source": []
  }
 ],
 "metadata": {
  "kernelspec": {
   "display_name": "Python 3",
   "language": "python",
   "name": "python3"
  },
  "language_info": {
   "codemirror_mode": {
    "name": "ipython",
    "version": 3
   },
   "file_extension": ".py",
   "mimetype": "text/x-python",
   "name": "python",
   "nbconvert_exporter": "python",
   "pygments_lexer": "ipython3",
   "version": "3.10.12"
  },
  "orig_nbformat": 4
 },
 "nbformat": 4,
 "nbformat_minor": 2
}
