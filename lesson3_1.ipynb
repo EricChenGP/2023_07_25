{
 "cells": [
  {
   "cell_type": "code",
   "execution_count": 1,
   "metadata": {},
   "outputs": [
    {
     "data": {
      "text/plain": [
       "5000"
      ]
     },
     "execution_count": 1,
     "metadata": {},
     "output_type": "execute_result"
    }
   ],
   "source": [
    "100 * 50"
   ]
  },
  {
   "cell_type": "code",
   "execution_count": 10,
   "metadata": {},
   "outputs": [
    {
     "name": "stdout",
     "output_type": "stream",
     "text": [
      "梯形的面積:25.00平方公分\n"
     ]
    }
   ],
   "source": [
    "top = float(input(\"請輸入梯形的上底(公分):\"))\n",
    "bottom = float(input(\"請輸入梯形的下底(公分):\"))\n",
    "height = float(input(\"請輸入梯形的高(公分):\"))\n",
    "area = (top + bottom) * height / 2\n",
    "# print(\"梯形的面積:\",round(area,ndigits=2),\"平方公分\")\n",
    "print(f\"梯形的面積:{area:.2f}平方公分\")"
   ]
  },
  {
   "cell_type": "code",
   "execution_count": 1,
   "metadata": {},
   "outputs": [
    {
     "name": "stdout",
     "output_type": "stream",
     "text": [
      "我有3個apple,5個orange,共有8水果\n"
     ]
    }
   ],
   "source": [
    "apple = 3\n",
    "orange = 5\n",
    "print(f\"我有{apple}個apple,{orange}個orange,共有{apple+orange}水果\")"
   ]
  },
  {
   "cell_type": "code",
   "execution_count": 12,
   "metadata": {},
   "outputs": [
    {
     "name": "stdout",
     "output_type": "stream",
     "text": [
      "對邊:2.5,斜邊:5,角度:30.00\n"
     ]
    }
   ],
   "source": [
    "import math\n",
    "side1 = eval(input(\"請輸入對邊:\"))\n",
    "side2 = eval(input(\"請輸入斜邊:\"))\n",
    "radian = math.asin(side1 / side2)\n",
    "degree = math.degrees(radian)\n",
    "print(f\"對邊:{side1},斜邊:{side2},角度:{degree:.2f}\")"
   ]
  },
  {
   "cell_type": "code",
   "execution_count": null,
   "metadata": {},
   "outputs": [],
   "source": [
    "import sympy\n",
    "import numpy"
   ]
  }
 ],
 "metadata": {
  "kernelspec": {
   "display_name": "Python 3",
   "language": "python",
   "name": "python3"
  },
  "language_info": {
   "codemirror_mode": {
    "name": "ipython",
    "version": 3
   },
   "file_extension": ".py",
   "mimetype": "text/x-python",
   "name": "python",
   "nbconvert_exporter": "python",
   "pygments_lexer": "ipython3",
   "version": "3.10.12"
  },
  "orig_nbformat": 4
 },
 "nbformat": 4,
 "nbformat_minor": 2
}
