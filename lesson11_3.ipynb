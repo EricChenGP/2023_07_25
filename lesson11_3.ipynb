{
 "cells": [
  {
   "cell_type": "code",
   "execution_count": null,
   "metadata": {},
   "outputs": [],
   "source": [
    "import random\n",
    "def get_score() -> list:\n",
    "    score = []\n",
    "    for i in range(5):\n",
    "        score.append(random.randint(50, 100))\n",
    "    return score\n",
    "\n",
    "def get_names(nums:int) -> list:\n",
    "    with open('names.txt',encoding='utf-8',newline='') as file:\n",
    "        names_str = file.read()\n",
    "        all_names_list = names_str.split(sep=\"\\n\")\n",
    "        names_list = random.choices(all_names_list,k=nums) #取出一定數量的姓名\n",
    "    return names_list"
   ]
  },
  {
   "cell_type": "code",
   "execution_count": null,
   "metadata": {},
   "outputs": [],
   "source": [
    "nums_int = int(input(\"請輸入學生數:\"))\n",
    "#取得nums_int個姓名\n",
    "names_list = get_names(nums_int)\n",
    "students = []\n",
    "for i in range(nums_int):\n",
    "    scores = get_score()\n",
    "    new_list = [names_list[i]] + scores\n",
    "    students.append(new_list)\n",
    "students"
   ]
  },
  {
   "cell_type": "code",
   "execution_count": null,
   "metadata": {},
   "outputs": [],
   "source": [
    "import csv\n",
    "#將2維list儲存為csv檔\n",
    "fileName = input(\"請輸入檔案名:(csv)\")\n",
    "with open(f'{fileName}.csv',mode='w',encoding='utf-8', newline='') as file:\n",
    "    csv_writer = csv.writer(file)\n",
    "    csv_writer.writerow(['姓名', '國文', '英文', '數學', '地理', '歷史'])\n",
    "    csv_writer.writerows(students)\n",
    "\n",
    "print(\"存檔成功\")"
   ]
  }
 ],
 "metadata": {
  "language_info": {
   "name": "python"
  },
  "orig_nbformat": 4
 },
 "nbformat": 4,
 "nbformat_minor": 2
}
